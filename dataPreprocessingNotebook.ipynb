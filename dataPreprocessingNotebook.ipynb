{
 "cells": [
  {
   "cell_type": "markdown",
   "metadata": {},
   "source": [
    "# Name: Astha Modi\n",
    "# GitHub ID: AsthaModi\n",
    "# USC ID: 4965114896"
   ]
  },
  {
   "cell_type": "code",
   "execution_count": 1,
   "metadata": {
    "execution": {
     "iopub.execute_input": "2023-12-11T01:25:27.968608Z",
     "iopub.status.busy": "2023-12-11T01:25:27.967611Z",
     "iopub.status.idle": "2023-12-11T01:25:44.135071Z",
     "shell.execute_reply": "2023-12-11T01:25:44.133825Z",
     "shell.execute_reply.started": "2023-12-11T01:25:27.968564Z"
    }
   },
   "outputs": [],
   "source": [
    "import os\n",
    "import json\n",
    "from PIL import Image  \n",
    "import numpy as np\n",
    "import pandas as pd\n",
    "import cv2\n",
    "import matplotlib.pyplot as plt\n",
    "from tensorflow.keras.models import Sequential\n",
    "from tensorflow.keras.layers import Dense, Conv2D, Flatten, Dropout, MaxPooling2D, BatchNormalization, GlobalAveragePooling2D\n",
    "from tensorflow.keras.regularizers import l2\n",
    "from tensorflow.keras.callbacks import EarlyStopping\n",
    "import tensorflow as tf\n",
    "from tensorflow.keras.preprocessing.image import ImageDataGenerator\n",
    "from sklearn.metrics import classification_report\n",
    "from tensorflow.keras.applications import EfficientNetB0, ResNet50, VGG16 \n",
    "from tensorflow.keras.models import Model"
   ]
  },
  {
   "cell_type": "markdown",
   "metadata": {},
   "source": [
    "# 1. Identification of Frost in Martian HiRISE Images. It is highly recommended that you complete this project using Keras and Python.\n",
    "## (a) In this problem, we are trying to build a classifier that distinguishes images of Martian terrain with frost. You can find the dataset in https://dataverse.jpl.nasa.gov/dataset.xhtml?persistentId=doi:10.48577/jpl.QJ9PYA. This dataset was created to study Mars seasonal frost cycle and its role in the planets climate and surface evolution over the past 2 billion years. The data helps in identifying low-latitude frosted microclimates and their impact on climate.\n"
   ]
  },
  {
   "cell_type": "markdown",
   "metadata": {},
   "source": [
    "## (b) Data Exploration and Pre-processing\n",
    "### i. Images (png files) and labels (json files) are organized in the data directory by subframes. Subframes are individual 5120x5120 pixel images which are crops of the original HiRISE images (often on the order of 50k x 10k pixels). Individual subframes were annotated by the contributors and then sliced into 299x299 tiles. Each tile has an associated label for use in training ML algorithms. There are 214 subframes and a total of 119920 tiles. Each tile has annotations which have been used to assign labels to the tiles frost or background. Each JSON file contains all the annotation information collected from human annotators. The following are relevant to the assignment: Image tiles are organized into folders of background and frost classes (binary). For the purpose of the final project, individual tiles shall serve as the data points which need to be classified using binary classification.\n",
    "### ii. The dataset includes files for splitting the data into train, test and validation. However, you will be provided by an improved version of those files when a repo is created: A. train source images.txt B. test source images.txt C. val source images.txt\n",
    "### iii. Each of these files contains the IDs of the high rise images (parent folders for the subframes and tiles)."
   ]
  },
  {
   "cell_type": "code",
   "execution_count": 2,
   "metadata": {
    "execution": {
     "iopub.execute_input": "2023-12-11T01:25:44.137868Z",
     "iopub.status.busy": "2023-12-11T01:25:44.136749Z",
     "iopub.status.idle": "2023-12-11T01:25:44.171135Z",
     "shell.execute_reply": "2023-12-11T01:25:44.169863Z",
     "shell.execute_reply.started": "2023-12-11T01:25:44.137825Z"
    }
   },
   "outputs": [],
   "source": [
    "trainFile ='../train_source_images.txt'\n",
    "testFile = '../test_source_images.txt'\n",
    "validFile = '../val_source_images.txt\n",
    "\n",
    "with open(trainFile, 'r') as file:\n",
    "    splitIdTrain = file.read().splitlines()\n",
    "    \n",
    "with open(testFile, 'r') as file:\n",
    "    splitIdTest = file.read().splitlines()\n",
    "\n",
    "with open(validFile, 'r') as file:\n",
    "    splitIdValid = file.read().splitlines()\n",
    "\n",
    "# print(splitIdTrain)\n",
    "# print(\"=================================\")\n",
    "# print(splitIdTest)\n",
    "# print(\"=================================\")\n",
    "# print(splitIdValid)"
   ]
  },
  {
   "cell_type": "code",
   "execution_count": 3,
   "metadata": {
    "execution": {
     "iopub.execute_input": "2023-12-11T01:25:48.842690Z",
     "iopub.status.busy": "2023-12-11T01:25:48.839948Z",
     "iopub.status.idle": "2023-12-11T01:25:48.851208Z",
     "shell.execute_reply": "2023-12-11T01:25:48.849768Z",
     "shell.execute_reply.started": "2023-12-11T01:25:48.842643Z"
    }
   },
   "outputs": [],
   "source": [
    "def loadData(split):\n",
    "    basePath = '../data'\n",
    "    data = []\n",
    "    for dirName in os.listdir(basePath):\n",
    "\n",
    "        if any(dirName.startswith(splitId) for splitId in split):\n",
    "            fullDirPath = os.path.join(basePath, dirName)\n",
    "\n",
    "            if os.path.isdir(os.path.join(fullDirPath, 'labels', 'frost')):\n",
    "                className = 'frost'\n",
    "            elif os.path.isdir(os.path.join(fullDirPath, 'labels', 'background')):\n",
    "                className = 'background'\n",
    "            else:\n",
    "                continue\n",
    "            tilesFolderPath = os.path.join(fullDirPath, 'tiles',className)\n",
    "\n",
    "            fileList = []\n",
    "            for imageFile in os.listdir(tilesFolderPath):\n",
    "                if imageFile.endswith('.png'):\n",
    "                    imagePath = os.path.join(tilesFolderPath, imageFile)     \n",
    "                    data.append((imagePath, className))\n",
    "                    \n",
    "    df = pd.DataFrame(data, columns=['path', 'label'])\n",
    "    return df"
   ]
  },
  {
   "cell_type": "code",
   "execution_count": 4,
   "metadata": {
    "execution": {
     "iopub.execute_input": "2023-12-11T01:25:52.787959Z",
     "iopub.status.busy": "2023-12-11T01:25:52.787584Z",
     "iopub.status.idle": "2023-12-11T01:26:25.937689Z",
     "shell.execute_reply": "2023-12-11T01:26:25.936227Z",
     "shell.execute_reply.started": "2023-12-11T01:25:52.787931Z"
    }
   },
   "outputs": [],
   "source": [
    "trainDf = loadData(splitIdTrain)\n",
    "testDf = loadData(splitIdTest)\n",
    "validDf = loadData(splitIdValid)"
   ]
  },
  {
   "cell_type": "markdown",
   "metadata": {},
   "source": [
    "## (c) Training CNN + MLP\n",
    "### i. To perform empirical regularization, crop, randomly zoom, rotate, flip, contrast, and translate images in your training set for image augmentation. You can use various tools to do this, including OpenCV.\n"
   ]
  },
  {
   "cell_type": "code",
   "execution_count": 5,
   "metadata": {
    "execution": {
     "iopub.execute_input": "2023-12-11T01:26:25.942569Z",
     "iopub.status.busy": "2023-12-11T01:26:25.941954Z",
     "iopub.status.idle": "2023-12-11T01:26:25.950319Z",
     "shell.execute_reply": "2023-12-11T01:26:25.948450Z",
     "shell.execute_reply.started": "2023-12-11T01:26:25.942533Z"
    }
   },
   "outputs": [],
   "source": [
    "train_datagen = ImageDataGenerator(\n",
    "    rescale=1./255,  \n",
    "    rotation_range=40,\n",
    "    width_shift_range=0.2,\n",
    "    height_shift_range=0.2,\n",
    "    shear_range=0.2,\n",
    "    zoom_range=0.2,\n",
    "    horizontal_flip=True,\n",
    "    fill_mode='nearest'\n",
    ")"
   ]
  },
  {
   "cell_type": "code",
   "execution_count": 6,
   "metadata": {
    "execution": {
     "iopub.execute_input": "2023-12-11T01:26:25.952278Z",
     "iopub.status.busy": "2023-12-11T01:26:25.951848Z",
     "iopub.status.idle": "2023-12-11T01:26:55.239370Z",
     "shell.execute_reply": "2023-12-11T01:26:55.238587Z",
     "shell.execute_reply.started": "2023-12-11T01:26:25.952245Z"
    }
   },
   "outputs": [
    {
     "name": "stdout",
     "output_type": "stream",
     "text": [
      "Found 29679 validated image filenames belonging to 2 classes.\n",
      "Found 11286 validated image filenames belonging to 2 classes.\n",
      "Found 12823 validated image filenames belonging to 2 classes.\n"
     ]
    }
   ],
   "source": [
    "test_datagen = ImageDataGenerator(rescale=1./255) \n",
    "valid_datagen = ImageDataGenerator(rescale=1./255) \n",
    "\n",
    "train_generator = train_datagen.flow_from_dataframe(\n",
    "    dataframe=trainDf,\n",
    "    x_col='path',\n",
    "    y_col='label',\n",
    "    target_size=(224, 224),\n",
    "    batch_size=32,\n",
    "    class_mode='categorical'\n",
    ")\n",
    "\n",
    "validation_generator = valid_datagen.flow_from_dataframe(\n",
    "    dataframe=validDf,\n",
    "    x_col='path',\n",
    "    y_col='label',\n",
    "    target_size=(224, 224),\n",
    "    batch_size=32,\n",
    "    class_mode='categorical'\n",
    ")\n",
    "\n",
    "test_generator = test_datagen.flow_from_dataframe(\n",
    "    dataframe=testDf,\n",
    "    x_col='path',\n",
    "    y_col='label',\n",
    "    target_size=(224, 224),\n",
    "    batch_size=32,\n",
    "    class_mode='categorical',\n",
    "    shuffle=False  \n",
    ")"
   ]
  },
  {
   "cell_type": "markdown",
   "metadata": {},
   "source": [
    "### ii. Train a three-layer CNN followed by a dense layer on the data. Choose the size of the kernels and depth of the layers and the number of neurons in the dense layer (MLP) on your own. Use ReLUs in all of the layers. Use the softmax function, batch normalization3 and a dropout rate of 30%, L2 regularization, as well as ADAM optimizer. Use cross entropy loss. Train for at least 20 epochs and perform early stopping using the validation set. Keep the network parameters that have the lowest validation error. Plot the training and validation errors vs. epochs."
   ]
  },
  {
   "cell_type": "code",
   "execution_count": 18,
   "metadata": {
    "execution": {
     "iopub.execute_input": "2023-12-11T06:22:22.975035Z",
     "iopub.status.busy": "2023-12-11T06:22:22.974619Z",
     "iopub.status.idle": "2023-12-11T06:22:22.989257Z",
     "shell.execute_reply": "2023-12-11T06:22:22.988065Z",
     "shell.execute_reply.started": "2023-12-11T06:22:22.975003Z"
    }
   },
   "outputs": [
    {
     "name": "stdout",
     "output_type": "stream",
     "text": [
      "Epoch 1/20\n",
      "928/928 [==============================] - 1606s 2s/step - loss: 2.8882 - accuracy: 0.7162 - val_loss: 18.8764 - val_accuracy: 0.3273\n",
      "Epoch 2/20\n",
      "928/928 [==============================] - 1566s 2s/step - loss: 0.9133 - accuracy: 0.7363 - val_loss: 9.7639 - val_accuracy: 0.3283\n",
      "Epoch 3/20\n",
      "928/928 [==============================] - 1557s 2s/step - loss: 1.2067 - accuracy: 0.6691 - val_loss: 6.6511 - val_accuracy: 0.3415\n",
      "Epoch 4/20\n",
      "928/928 [==============================] - 1553s 2s/step - loss: 0.8294 - accuracy: 0.7136 - val_loss: 1.9300 - val_accuracy: 0.5175\n",
      "Epoch 5/20\n",
      "928/928 [==============================] - 1556s 2s/step - loss: 0.8601 - accuracy: 0.6998 - val_loss: 0.8862 - val_accuracy: 0.6515\n",
      "Epoch 6/20\n",
      "928/928 [==============================] - 1550s 2s/step - loss: 1.5642 - accuracy: 0.6808 - val_loss: 1.3205 - val_accuracy: 0.4922\n",
      "Epoch 7/20\n",
      "928/928 [==============================] - 1555s 2s/step - loss: 0.7989 - accuracy: 0.7091 - val_loss: 0.6292 - val_accuracy: 0.8371\n",
      "Epoch 8/20\n",
      "928/928 [==============================] - 1557s 2s/step - loss: 0.6723 - accuracy: 0.7414 - val_loss: 0.6011 - val_accuracy: 0.8496\n",
      "Epoch 9/20\n",
      "928/928 [==============================] - 1566s 2s/step - loss: 0.6227 - accuracy: 0.7597 - val_loss: 0.5016 - val_accuracy: 0.8628\n",
      "Epoch 10/20\n",
      "928/928 [==============================] - 1568s 2s/step - loss: 0.5393 - accuracy: 0.8105 - val_loss: 3.8401 - val_accuracy: 0.3491\n",
      "Epoch 11/20\n",
      "928/928 [==============================] - 1574s 2s/step - loss: 0.4778 - accuracy: 0.8530 - val_loss: 0.4202 - val_accuracy: 0.8858\n",
      "Epoch 12/20\n",
      "928/928 [==============================] - 1575s 2s/step - loss: 0.4429 - accuracy: 0.8715 - val_loss: 4.1387 - val_accuracy: 0.3878\n",
      "Epoch 13/20\n",
      "928/928 [==============================] - 1575s 2s/step - loss: 0.4262 - accuracy: 0.8781 - val_loss: 0.3940 - val_accuracy: 0.8769\n",
      "Epoch 14/20\n",
      "928/928 [==============================] - 1585s 2s/step - loss: 0.4132 - accuracy: 0.8852 - val_loss: 1.7228 - val_accuracy: 0.5404\n",
      "Epoch 15/20\n",
      "928/928 [==============================] - 1582s 2s/step - loss: 0.3935 - accuracy: 0.8946 - val_loss: 4.8703 - val_accuracy: 0.4382\n",
      "Epoch 16/20\n",
      "928/928 [==============================] - 1585s 2s/step - loss: 0.3820 - accuracy: 0.9034 - val_loss: 0.3123 - val_accuracy: 0.9180\n",
      "Epoch 17/20\n",
      "928/928 [==============================] - 1576s 2s/step - loss: 0.3610 - accuracy: 0.9106 - val_loss: 20.9605 - val_accuracy: 0.3324\n",
      "Epoch 18/20\n",
      "928/928 [==============================] - 1573s 2s/step - loss: 0.3539 - accuracy: 0.9139 - val_loss: 2.8794 - val_accuracy: 0.6287\n",
      "Epoch 19/20\n",
      "928/928 [==============================] - 1575s 2s/step - loss: 0.3974 - accuracy: 0.8978 - val_loss: 0.8117 - val_accuracy: 0.6924\n",
      "Epoch 20/20\n",
      "928/928 [==============================] - 1580s 2s/step - loss: 0.3632 - accuracy: 0.9090 - val_loss: 4.2447 - val_accuracy: 0.3889\n"
     ]
    }
   ],
   "source": [
    "model_CNN = Sequential([\n",
    "    Conv2D(32, (3, 3), activation='relu', input_shape=(224, 224, 3), kernel_regularizer=l2(0.001)),\n",
    "    BatchNormalization(),\n",
    "    MaxPooling2D(pool_size=(2, 2)),\n",
    "\n",
    "    Conv2D(64, (3, 3), activation='relu', kernel_regularizer=l2(0.001)),\n",
    "    BatchNormalization(),\n",
    "    MaxPooling2D(pool_size=(2, 2)),\n",
    "\n",
    "    Conv2D(128, (3, 3), activation='relu', kernel_regularizer=l2(0.001)),\n",
    "    BatchNormalization(),\n",
    "    MaxPooling2D(pool_size=(2, 2)),\n",
    "\n",
    "    Flatten(),\n",
    "    Dense(128, activation='relu', kernel_regularizer=l2(0.001)),\n",
    "    Dropout(0.3),\n",
    "    Dense(2, activation='softmax') \n",
    "])\n",
    "\n",
    "model_CNN.compile(optimizer='adam', loss='categorical_crossentropy', metrics=['accuracy'])\n",
    "\n",
    "early_stopping_CNN = EarlyStopping(monitor='val_loss', patience=5, restore_best_weights=True)\n",
    "\n",
    "history_CNN = model_CNN.fit(\n",
    "    train_generator,\n",
    "    epochs=20,\n",
    "    validation_data=validation_generator,\n",
    "    callbacks=[early_stopping_CNN]\n",
    ")"
   ]
  },
  {
   "cell_type": "code",
   "execution_count": 14,
   "metadata": {
    "execution": {
     "iopub.execute_input": "2023-12-10T13:00:44.144331Z",
     "iopub.status.busy": "2023-12-10T13:00:44.143960Z",
     "iopub.status.idle": "2023-12-10T13:00:44.625751Z",
     "shell.execute_reply": "2023-12-10T13:00:44.624742Z",
     "shell.execute_reply.started": "2023-12-10T13:00:44.144302Z"
    }
   },
   "outputs": [
    {
     "data": {
      "image/png": "[encoded data removed]",
      "text/plain": [
       "<Figure size 1200x500 with 2 Axes>"
      ]
     },
     "metadata": {},
     "output_type": "display_data"
    }
   ],
   "source": [
    "plt.figure(figsize=(12, 5))\n",
    "plt.subplot(1, 2, 1)\n",
    "plt.plot(history_CNN.history['loss'], label='Training Loss')\n",
    "plt.plot(history_CNN.history['val_loss'], label='Validation Loss')\n",
    "plt.title('Training and Validation Loss')\n",
    "plt.xlabel('Epochs')\n",
    "plt.ylabel('Loss')\n",
    "plt.legend()\n",
    "\n",
    "plt.subplot(1, 2, 2)\n",
    "plt.plot(history_CNN.history['accuracy'], label='Training Accuracy')\n",
    "plt.plot(history_CNN .history['val_accuracy'], label='Validation Accuracy')\n",
    "plt.title('Training and Validation Accuracy')\n",
    "plt.xlabel('Epochs')\n",
    "plt.ylabel('Accuracy')\n",
    "plt.legend()\n",
    "\n",
    "plt.tight_layout()\n",
    "plt.show()"
   ]
  },
  {
   "cell_type": "markdown",
   "metadata": {},
   "source": [
    "### iii. Report Precision, Recall, and F1 score for your model."
   ]
  },
  {
   "cell_type": "code",
   "execution_count": 9,
   "metadata": {
    "execution": {
     "iopub.execute_input": "2023-12-10T11:57:56.104010Z",
     "iopub.status.busy": "2023-12-10T11:57:56.103432Z",
     "iopub.status.idle": "2023-12-10T12:08:18.627873Z",
     "shell.execute_reply": "2023-12-10T12:08:18.626610Z",
     "shell.execute_reply.started": "2023-12-10T11:57:56.103970Z"
    }
   },
   "outputs": [
    {
     "name": "stdout",
     "output_type": "stream",
     "text": [
      "928/928 [==============================] - 607s 654ms/step\n",
      "Classification Report for CNN Train Dataset:\n",
      "              precision    recall  f1-score   support\n",
      "\n",
      "  background       0.40      0.18      0.25     12235\n",
      "       frost       0.58      0.80      0.68     17444\n",
      "\n",
      "    accuracy                           0.55     29679\n",
      "   macro avg       0.49      0.49      0.46     29679\n",
      "weighted avg       0.51      0.55      0.50     29679\n",
      "\n"
     ]
    }
   ],
   "source": [
    "# Make predictions on the training set\n",
    "predictions_train_CNN = model_CNN.predict(train_generator)\n",
    "true_classes_train_CNN = train_generator.classes\n",
    "predicted_classes_train_CNN = predictions_train_CNN.argmax(axis=1)\n",
    "class_labels_train_CNN = list(train_generator.class_indices.keys())\n",
    "report_CNN_train = classification_report(true_classes_train_CNN, predicted_classes_train_CNN, target_names=class_labels_train_CNN)\n",
    "\n",
    "print(\"Classification Report for CNN Train Dataset:\")\n",
    "print(report_CNN_train)"
   ]
  },
  {
   "cell_type": "code",
   "execution_count": 16,
   "metadata": {
    "execution": {
     "iopub.execute_input": "2023-12-10T13:21:53.819990Z",
     "iopub.status.busy": "2023-12-10T13:21:53.819624Z",
     "iopub.status.idle": "2023-12-10T13:24:31.187001Z",
     "shell.execute_reply": "2023-12-10T13:24:31.185481Z",
     "shell.execute_reply.started": "2023-12-10T13:21:53.819966Z"
    }
   },
   "outputs": [
    {
     "name": "stdout",
     "output_type": "stream",
     "text": [
      "353/353 [==============================] - 157s 445ms/step\n",
      "Classification Report for CNN Valid Dataset:\n",
      "              precision    recall  f1-score   support\n",
      "\n",
      "  background       0.68      0.07      0.12      7654\n",
      "       frost       0.32      0.93      0.48      3632\n",
      "\n",
      "    accuracy                           0.35     11286\n",
      "   macro avg       0.50      0.50      0.30     11286\n",
      "weighted avg       0.56      0.35      0.24     11286\n",
      "\n"
     ]
    }
   ],
   "source": [
    "# Make predictions on the valid set\n",
    "predictions_valid_CNN = model_CNN.predict(validation_generator)\n",
    "true_classes_valid_CNN = validation_generator.classes\n",
    "predicted_classes_valid_CNN = predictions_valid_CNN.argmax(axis=1)\n",
    "class_labels_valid_CNN = list(validation_generator.class_indices.keys())\n",
    "report_CNN_valid = classification_report(true_classes_valid_CNN, predicted_classes_valid_CNN, target_names=class_labels_valid_CNN)\n",
    "\n",
    "print(\"Classification Report for CNN Valid Dataset:\")\n",
    "print(report_CNN_valid)"
   ]
  },
  {
   "cell_type": "code",
   "execution_count": 12,
   "metadata": {
    "execution": {
     "iopub.execute_input": "2023-12-10T12:39:54.312005Z",
     "iopub.status.busy": "2023-12-10T12:39:54.311600Z",
     "iopub.status.idle": "2023-12-10T12:42:55.875613Z",
     "shell.execute_reply": "2023-12-10T12:42:55.874200Z",
     "shell.execute_reply.started": "2023-12-10T12:39:54.311973Z"
    }
   },
   "outputs": [
    {
     "name": "stdout",
     "output_type": "stream",
     "text": [
      "401/401 [==============================] - 181s 451ms/step\n",
      "Classification Report for CNN Test Dataset:\n",
      "              precision    recall  f1-score   support\n",
      "\n",
      "  background       1.00      0.19      0.32      4418\n",
      "       frost       0.70      1.00      0.82      8405\n",
      "\n",
      "    accuracy                           0.72     12823\n",
      "   macro avg       0.85      0.59      0.57     12823\n",
      "weighted avg       0.80      0.72      0.65     12823\n",
      "\n"
     ]
    }
   ],
   "source": [
    "# Make predictions on the test set\n",
    "predictions_test_CNN = model_CNN.predict(test_generator)\n",
    "true_classes_CNN = test_generator.classes\n",
    "predicted_classes_CNN = predictions_test_CNN.argmax(axis=1)\n",
    "class_labels = list(test_generator.class_indices.keys())\n",
    "report_CNN_test = classification_report(true_classes_CNN, predicted_classes_CNN, target_names=class_labels)\n",
    "\n",
    "print(\"Classification Report for CNN Test Dataset:\")\n",
    "print(report_CNN_test)"
   ]
  },
  {
   "cell_type": "markdown",
   "metadata": {},
   "source": [
    "## (d) Transfer Learning\n",
    "### i. When dealing with classification of relatively small image datasets, deep networks may not perform very well because of not having enough data to train them. In such cases, one usually uses transfer learning, which uses deep learning models that are trained on very large datasets such as ImageNet as feature extractors. The idea is that such deep networks have learned to extract meaningful features from an image using their layers, and those features can be used in learning other tasks. In order to do that, usually the last layer or the last few layers of the pre-trained network are removed, and the response of the layer before the removed layers to the images in the new dataset is used as a feature vector to train one more multiple replacement layers. In this project, you will use pre-trained models (EfficientNetB0, ResNet50, and VGG16). For these pre-trained networks, you will only train the last fully connected layer, and will freeze all layers before them (i.e. we do not change their parameters during training) and use the outputs of the penultimate layer in the original pre-trained model as the features extracted from each image.\n"
   ]
  },
  {
   "cell_type": "markdown",
   "metadata": {},
   "source": [
    "# EfficientNetB0"
   ]
  },
  {
   "cell_type": "code",
   "execution_count": 7,
   "metadata": {
    "execution": {
     "iopub.execute_input": "2023-12-11T01:27:21.778942Z",
     "iopub.status.busy": "2023-12-11T01:27:21.778254Z",
     "iopub.status.idle": "2023-12-11T01:27:35.178132Z",
     "shell.execute_reply": "2023-12-11T01:27:35.177108Z",
     "shell.execute_reply.started": "2023-12-11T01:27:21.778896Z"
    }
   },
   "outputs": [],
   "source": [
    "base_model_efficientnet = EfficientNetB0(weights='imagenet', include_top=False)\n",
    "for layer in base_model_efficientnet.layers:\n",
    "    layer.trainable = False "
   ]
  },
  {
   "cell_type": "code",
   "execution_count": 9,
   "metadata": {
    "execution": {
     "iopub.execute_input": "2023-12-11T01:27:45.777674Z",
     "iopub.status.busy": "2023-12-11T01:27:45.777253Z",
     "iopub.status.idle": "2023-12-11T01:27:45.854657Z",
     "shell.execute_reply": "2023-12-11T01:27:45.853439Z",
     "shell.execute_reply.started": "2023-12-11T01:27:45.777641Z"
    }
   },
   "outputs": [],
   "source": [
    "x = base_model_efficientnet.output\n",
    "x = Dropout(0.3)(x) \n",
    "x = BatchNormalization()(x)\n",
    "x = Dense(1024, activation='relu')(x) \n",
    "predictions = Dense(2, activation='softmax')(x) \n",
    "\n",
    "modelEff = Model(inputs=base_model_efficientnet.input, outputs=predictions)"
   ]
  },
  {
   "cell_type": "code",
   "execution_count": 10,
   "metadata": {
    "execution": {
     "iopub.execute_input": "2023-12-11T01:27:49.295371Z",
     "iopub.status.busy": "2023-12-11T01:27:49.294545Z",
     "iopub.status.idle": "2023-12-11T01:27:49.300882Z",
     "shell.execute_reply": "2023-12-11T01:27:49.299441Z",
     "shell.execute_reply.started": "2023-12-11T01:27:49.295318Z"
    }
   },
   "outputs": [],
   "source": [
    "early_stoppingEff = EarlyStopping(monitor='val_loss', patience=5)"
   ]
  },
  {
   "cell_type": "code",
   "execution_count": 11,
   "metadata": {
    "execution": {
     "iopub.execute_input": "2023-12-11T01:27:51.574765Z",
     "iopub.status.busy": "2023-12-11T01:27:51.574371Z",
     "iopub.status.idle": "2023-12-11T01:27:51.613986Z",
     "shell.execute_reply": "2023-12-11T01:27:51.612802Z",
     "shell.execute_reply.started": "2023-12-11T01:27:51.574732Z"
    }
   },
   "outputs": [],
   "source": [
    "from tensorflow.keras.optimizers import Adam\n",
    "from tensorflow.keras.losses import CategoricalCrossentropy\n",
    "modelEff.compile(optimizer=Adam(), loss=CategoricalCrossentropy(), metrics=['accuracy'])"
   ]
  },
  {
   "cell_type": "code",
   "execution_count": 12,
   "metadata": {
    "execution": {
     "iopub.execute_input": "2023-12-11T01:27:55.197462Z",
     "iopub.status.busy": "2023-12-11T01:27:55.196809Z",
     "iopub.status.idle": "2023-12-11T05:39:34.326195Z",
     "shell.execute_reply": "2023-12-11T05:39:34.325359Z",
     "shell.execute_reply.started": "2023-12-11T01:27:55.197426Z"
    }
   },
   "outputs": [
    {
     "name": "stdout",
     "output_type": "stream",
     "text": [
      "Epoch 1/10\n",
      "928/928 [==============================] - 1506s 2s/step - loss: 0.6185 - accuracy: 0.7818 - val_loss: 0.7088 - val_accuracy: 0.7880\n",
      "Epoch 2/10\n",
      "928/928 [==============================] - 1474s 2s/step - loss: 0.5637 - accuracy: 0.8181 - val_loss: 0.6872 - val_accuracy: 0.7416\n",
      "Epoch 3/10\n",
      "928/928 [==============================] - 1498s 2s/step - loss: 0.5338 - accuracy: 0.8330 - val_loss: 0.9682 - val_accuracy: 0.6245\n",
      "Epoch 4/10\n",
      "928/928 [==============================] - 1473s 2s/step - loss: 0.5235 - accuracy: 0.8368 - val_loss: 0.8747 - val_accuracy: 0.6731\n",
      "Epoch 5/10\n",
      "928/928 [==============================] - 1484s 2s/step - loss: 0.5083 - accuracy: 0.8452 - val_loss: 0.6235 - val_accuracy: 0.8210\n",
      "Epoch 6/10\n",
      "928/928 [==============================] - 1475s 2s/step - loss: 0.5037 - accuracy: 0.8484 - val_loss: 0.8331 - val_accuracy: 0.7222\n",
      "Epoch 7/10\n",
      "928/928 [==============================] - 1491s 2s/step - loss: 0.4918 - accuracy: 0.8563 - val_loss: 0.7080 - val_accuracy: 0.7891\n",
      "Epoch 8/10\n",
      "928/928 [==============================] - 1475s 2s/step - loss: 0.4869 - accuracy: 0.8590 - val_loss: 0.9050 - val_accuracy: 0.7088\n",
      "Epoch 9/10\n",
      "928/928 [==============================] - 1483s 2s/step - loss: 0.4807 - accuracy: 0.8614 - val_loss: 1.0920 - val_accuracy: 0.6514\n",
      "Epoch 10/10\n",
      "928/928 [==============================] - 1484s 2s/step - loss: 0.4710 - accuracy: 0.8674 - val_loss: 0.8869 - val_accuracy: 0.7204\n"
     ]
    }
   ],
   "source": [
    "historyEff = modelEff.fit(\n",
    "    train_generator,\n",
    "    epochs=10, \n",
    "    validation_data=validation_generator,\n",
    "    callbacks=[early_stoppingEff]\n",
    ")"
   ]
  },
  {
   "cell_type": "code",
   "execution_count": 17,
   "metadata": {
    "execution": {
     "iopub.execute_input": "2023-12-11T06:13:59.092797Z",
     "iopub.status.busy": "2023-12-11T06:13:59.092423Z",
     "iopub.status.idle": "2023-12-11T06:13:59.387475Z",
     "shell.execute_reply": "2023-12-11T06:13:59.386188Z",
     "shell.execute_reply.started": "2023-12-11T06:13:59.092767Z"
    }
   },
   "outputs": [
    {
     "data": {
      "image/png": "[encoded data removed]",
      "text/plain": [
       "<Figure size 640x480 with 1 Axes>"
      ]
     },
     "metadata": {},
     "output_type": "display_data"
    }
   ],
   "source": [
    "plt.plot(historyEff.history['loss'], label='Training Loss')\n",
    "plt.plot(historyEff.history['val_loss'], label='Validation Loss')\n",
    "plt.title('Training and Validation Loss')\n",
    "plt.legend()\n",
    "plt.show()"
   ]
  },
  {
   "cell_type": "code",
   "execution_count": 13,
   "metadata": {
    "execution": {
     "iopub.execute_input": "2023-12-11T05:39:43.701368Z",
     "iopub.status.busy": "2023-12-11T05:39:43.700741Z",
     "iopub.status.idle": "2023-12-11T05:58:20.160270Z",
     "shell.execute_reply": "2023-12-11T05:58:20.159320Z",
     "shell.execute_reply.started": "2023-12-11T05:39:43.701317Z"
    }
   },
   "outputs": [
    {
     "name": "stdout",
     "output_type": "stream",
     "text": [
      "928/928 [==============================] - 1115s 1s/step\n"
     ]
    }
   ],
   "source": [
    "predictionsTrainEff = modelEff.predict(train_generator)"
   ]
  },
  {
   "cell_type": "code",
   "execution_count": 14,
   "metadata": {
    "execution": {
     "iopub.execute_input": "2023-12-11T05:59:19.963946Z",
     "iopub.status.busy": "2023-12-11T05:59:19.962815Z",
     "iopub.status.idle": "2023-12-11T05:59:20.028863Z",
     "shell.execute_reply": "2023-12-11T05:59:20.027642Z",
     "shell.execute_reply.started": "2023-12-11T05:59:19.963904Z"
    }
   },
   "outputs": [
    {
     "name": "stdout",
     "output_type": "stream",
     "text": [
      "Classification Report for EfficientNetB0 for train dataset\n",
      "              precision    recall  f1-score   support\n",
      "\n",
      "  background       0.41      0.40      0.41     12235\n",
      "       frost       0.59      0.60      0.60     17444\n",
      "\n",
      "    accuracy                           0.52     29679\n",
      "   macro avg       0.50      0.50      0.50     29679\n",
      "weighted avg       0.52      0.52      0.52     29679\n",
      "\n"
     ]
    }
   ],
   "source": [
    "true_classesTrainEff = train_generator.classes\n",
    "predicted_classesTrainEff = predictionsTrainEff.argmax(axis=1)\n",
    "class_labelsTrainEff = list(train_generator.class_indices.keys())\n",
    "reportTrainEff = classification_report(true_classesTrainEff, predicted_classesTrainEff, target_names=class_labelsTrainEff)\n",
    "\n",
    "print(\"Classification Report for EfficientNetB0 for train dataset\")\n",
    "print(reportTrainEff)"
   ]
  },
  {
   "cell_type": "code",
   "execution_count": 15,
   "metadata": {
    "execution": {
     "iopub.execute_input": "2023-12-11T05:59:26.719299Z",
     "iopub.status.busy": "2023-12-11T05:59:26.718891Z",
     "iopub.status.idle": "2023-12-11T06:05:48.922901Z",
     "shell.execute_reply": "2023-12-11T06:05:48.921714Z",
     "shell.execute_reply.started": "2023-12-11T05:59:26.719263Z"
    }
   },
   "outputs": [
    {
     "name": "stdout",
     "output_type": "stream",
     "text": [
      "353/353 [==============================] - 375s 1s/step\n",
      "Classification Report for EfficientNetB0 for Valid dataset\n",
      "              precision    recall  f1-score   support\n",
      "\n",
      "  background       0.67      0.58      0.62      7654\n",
      "       frost       0.31      0.41      0.35      3632\n",
      "\n",
      "    accuracy                           0.52     11286\n",
      "   macro avg       0.49      0.49      0.49     11286\n",
      "weighted avg       0.56      0.52      0.53     11286\n",
      "\n"
     ]
    }
   ],
   "source": [
    "predictionsValidEff = modelEff.predict(validation_generator)\n",
    "true_classesValidEff = validation_generator.classes\n",
    "predicted_classesValidEff = predictionsValidEff.argmax(axis=1)\n",
    "class_labelsValidEff = list(validation_generator.class_indices.keys())\n",
    "reportValidEff = classification_report(true_classesValidEff, predicted_classesValidEff, target_names=class_labelsValidEff)\n",
    "\n",
    "print(\"Classification Report for EfficientNetB0 for Valid dataset\")\n",
    "print(reportValidEff)"
   ]
  },
  {
   "cell_type": "code",
   "execution_count": 16,
   "metadata": {
    "execution": {
     "iopub.execute_input": "2023-12-11T06:06:04.433236Z",
     "iopub.status.busy": "2023-12-11T06:06:04.432816Z",
     "iopub.status.idle": "2023-12-11T06:13:26.817737Z",
     "shell.execute_reply": "2023-12-11T06:13:26.816923Z",
     "shell.execute_reply.started": "2023-12-11T06:06:04.433203Z"
    }
   },
   "outputs": [
    {
     "name": "stdout",
     "output_type": "stream",
     "text": [
      "401/401 [==============================] - 426s 1s/step\n",
      "Classification Report for EfficientNetB0 for test dataset\n",
      "              precision    recall  f1-score   support\n",
      "\n",
      "  background       0.71      0.78      0.74      4418\n",
      "       frost       0.88      0.83      0.85      8405\n",
      "\n",
      "    accuracy                           0.81     12823\n",
      "   macro avg       0.79      0.81      0.80     12823\n",
      "weighted avg       0.82      0.81      0.82     12823\n",
      "\n"
     ]
    }
   ],
   "source": [
    "predictionsTestEff = modelEff.predict(test_generator)\n",
    "true_classesTestEff = test_generator.classes\n",
    "predicted_classesTestEff = predictionsTestEff.argmax(axis=1)\n",
    "class_labelsTestEff = list(test_generator.class_indices.keys())\n",
    "reportTestEff = classification_report(true_classesTestEff, predicted_classesTestEff, target_names=class_labelsTestEff)\n",
    "\n",
    "print(\"Classification Report for EfficientNetB0 for test dataset\")\n",
    "print(reportTestEff)"
   ]
  },
  {
   "cell_type": "markdown",
   "metadata": {},
   "source": [
    "# ResNet"
   ]
  },
  {
   "cell_type": "code",
   "execution_count": 12,
   "metadata": {
    "execution": {
     "iopub.execute_input": "2023-12-10T13:36:19.068590Z",
     "iopub.status.busy": "2023-12-10T13:36:19.067856Z",
     "iopub.status.idle": "2023-12-10T13:36:33.043956Z",
     "shell.execute_reply": "2023-12-10T13:36:33.042914Z",
     "shell.execute_reply.started": "2023-12-10T13:36:19.068552Z"
    }
   },
   "outputs": [
    {
     "name": "stderr",
     "output_type": "stream",
     "text": [
      "/opt/conda/lib/python3.10/site-packages/keras/src/layers/core/lambda_layer.py:327: UserWarning: official.vision.image_classification.resnet_model is not loaded, but a Lambda layer uses it. It may cause errors.\n",
      "  function = cls._parse_function_from_config(\n"
     ]
    }
   ],
   "source": [
    "# Load ResNet50 pre-trained model\n",
    "base_model_resnet = ResNet50(weights='imagenet', include_top=False, input_shape=(224, 224, 3))\n",
    "\n",
    "for layer in base_model_resnet.layers:\n",
    "    layer.trainable = False"
   ]
  },
  {
   "cell_type": "code",
   "execution_count": 13,
   "metadata": {
    "execution": {
     "iopub.execute_input": "2023-12-10T13:36:37.245227Z",
     "iopub.status.busy": "2023-12-10T13:36:37.244834Z",
     "iopub.status.idle": "2023-12-10T13:36:37.334937Z",
     "shell.execute_reply": "2023-12-10T13:36:37.333750Z",
     "shell.execute_reply.started": "2023-12-10T13:36:37.245197Z"
    }
   },
   "outputs": [],
   "source": [
    "x = base_model_resnet.output\n",
    "x = Dropout(0.3)(x)\n",
    "x = BatchNormalization()(x)\n",
    "x = Dense(1024, activation='relu')(x) \n",
    "predictions = Dense(2, activation='softmax')(x)  \n",
    "modelResNet = Model(inputs=base_model_resnet.input, outputs=predictions)"
   ]
  },
  {
   "cell_type": "code",
   "execution_count": 14,
   "metadata": {
    "execution": {
     "iopub.execute_input": "2023-12-10T13:36:42.395705Z",
     "iopub.status.busy": "2023-12-10T13:36:42.395268Z",
     "iopub.status.idle": "2023-12-10T13:36:42.435323Z",
     "shell.execute_reply": "2023-12-10T13:36:42.434040Z",
     "shell.execute_reply.started": "2023-12-10T13:36:42.395668Z"
    }
   },
   "outputs": [],
   "source": [
    "from tensorflow.keras.optimizers import Adam\n",
    "from tensorflow.keras.losses import CategoricalCrossentropy\n",
    "modelResNet.compile(optimizer=Adam(), loss=CategoricalCrossentropy(), metrics=['accuracy'])\n"
   ]
  },
  {
   "cell_type": "code",
   "execution_count": 15,
   "metadata": {
    "execution": {
     "iopub.execute_input": "2023-12-10T13:36:46.323406Z",
     "iopub.status.busy": "2023-12-10T13:36:46.322927Z",
     "iopub.status.idle": "2023-12-10T13:36:46.328939Z",
     "shell.execute_reply": "2023-12-10T13:36:46.327559Z",
     "shell.execute_reply.started": "2023-12-10T13:36:46.323351Z"
    }
   },
   "outputs": [],
   "source": [
    "early_stoppingResNet = EarlyStopping(monitor='val_loss', patience=5)"
   ]
  },
  {
   "cell_type": "code",
   "execution_count": 16,
   "metadata": {
    "execution": {
     "iopub.execute_input": "2023-12-10T13:36:59.540968Z",
     "iopub.status.busy": "2023-12-10T13:36:59.539959Z",
     "iopub.status.idle": "2023-12-10T23:25:13.532492Z",
     "shell.execute_reply": "2023-12-10T23:25:13.531420Z",
     "shell.execute_reply.started": "2023-12-10T13:36:59.540927Z"
    }
   },
   "outputs": [
    {
     "name": "stdout",
     "output_type": "stream",
     "text": [
      "Epoch 1/10\n",
      "928/928 [==============================] - 3579s 4s/step - loss: 0.9680 - accuracy: 0.7310 - val_loss: 1.2343 - val_accuracy: 0.6987\n",
      "Epoch 2/10\n",
      "928/928 [==============================] - 3576s 4s/step - loss: 0.9310 - accuracy: 0.7578 - val_loss: 1.1799 - val_accuracy: 0.7848\n",
      "Epoch 3/10\n",
      "928/928 [==============================] - 3530s 4s/step - loss: 0.9066 - accuracy: 0.7707 - val_loss: 1.0169 - val_accuracy: 0.8349\n",
      "Epoch 4/10\n",
      "928/928 [==============================] - 3569s 4s/step - loss: 0.9003 - accuracy: 0.7788 - val_loss: 1.1196 - val_accuracy: 0.8411\n",
      "Epoch 5/10\n",
      "928/928 [==============================] - 3520s 4s/step - loss: 0.8898 - accuracy: 0.7844 - val_loss: 1.1656 - val_accuracy: 0.7552\n",
      "Epoch 6/10\n",
      "928/928 [==============================] - 3451s 4s/step - loss: 0.8847 - accuracy: 0.7872 - val_loss: 1.3093 - val_accuracy: 0.7280\n",
      "Epoch 7/10\n",
      "928/928 [==============================] - 3436s 4s/step - loss: 0.8748 - accuracy: 0.7932 - val_loss: 1.0079 - val_accuracy: 0.8431\n",
      "Epoch 8/10\n",
      "928/928 [==============================] - 3484s 4s/step - loss: 0.8703 - accuracy: 0.7966 - val_loss: 1.1648 - val_accuracy: 0.8056\n",
      "Epoch 9/10\n",
      "928/928 [==============================] - 3479s 4s/step - loss: 0.8599 - accuracy: 0.8060 - val_loss: 1.3254 - val_accuracy: 0.7839\n",
      "Epoch 10/10\n",
      "928/928 [==============================] - 3468s 4s/step - loss: 0.8652 - accuracy: 0.7993 - val_loss: 1.4514 - val_accuracy: 0.7227\n"
     ]
    }
   ],
   "source": [
    "historyResNet = modelResNet.fit(\n",
    "    train_generator,\n",
    "    epochs=10,  \n",
    "    validation_data=validation_generator,\n",
    "    callbacks=[early_stoppingResNet]\n",
    ")\n"
   ]
  },
  {
   "cell_type": "code",
   "execution_count": 29,
   "metadata": {
    "execution": {
     "iopub.execute_input": "2023-12-11T01:24:11.692534Z",
     "iopub.status.busy": "2023-12-11T01:24:11.692068Z",
     "iopub.status.idle": "2023-12-11T01:24:12.064018Z",
     "shell.execute_reply": "2023-12-11T01:24:12.062695Z",
     "shell.execute_reply.started": "2023-12-11T01:24:11.692498Z"
    }
   },
   "outputs": [
    {
     "data": {
      "image/png": "[encoded data removed]",
      "text/plain": [
       "<Figure size 640x480 with 1 Axes>"
      ]
     },
     "metadata": {},
     "output_type": "display_data"
    }
   ],
   "source": [
    "import matplotlib.pyplot as plt\n",
    "\n",
    "plt.plot(historyResNet.history['loss'], label='Training Loss')\n",
    "plt.plot(historyResNet.history['val_loss'], label='Validation Loss')\n",
    "plt.title('Training and Validation Loss')\n",
    "plt.legend()\n",
    "plt.show()"
   ]
  },
  {
   "cell_type": "code",
   "execution_count": 19,
   "metadata": {
    "execution": {
     "iopub.execute_input": "2023-12-11T00:05:08.734736Z",
     "iopub.status.busy": "2023-12-11T00:05:08.734296Z",
     "iopub.status.idle": "2023-12-11T00:46:30.669092Z",
     "shell.execute_reply": "2023-12-11T00:46:30.668038Z",
     "shell.execute_reply.started": "2023-12-11T00:05:08.734701Z"
    }
   },
   "outputs": [
    {
     "name": "stdout",
     "output_type": "stream",
     "text": [
      "928/928 [==============================] - 2481s 3s/step\n"
     ]
    }
   ],
   "source": [
    "predictionsTrainResNet = modelResNet.predict(train_generator)"
   ]
  },
  {
   "cell_type": "code",
   "execution_count": 20,
   "metadata": {
    "execution": {
     "iopub.execute_input": "2023-12-11T00:46:30.671222Z",
     "iopub.status.busy": "2023-12-11T00:46:30.670877Z",
     "iopub.status.idle": "2023-12-11T00:46:30.737264Z",
     "shell.execute_reply": "2023-12-11T00:46:30.736173Z",
     "shell.execute_reply.started": "2023-12-11T00:46:30.671173Z"
    }
   },
   "outputs": [
    {
     "name": "stdout",
     "output_type": "stream",
     "text": [
      "Classification Report for ResNet Train Dataset\n",
      "              precision    recall  f1-score   support\n",
      "\n",
      "  background       0.41      0.36      0.39     12235\n",
      "       frost       0.59      0.64      0.62     17444\n",
      "\n",
      "    accuracy                           0.53     29679\n",
      "   macro avg       0.50      0.50      0.50     29679\n",
      "weighted avg       0.52      0.53      0.52     29679\n",
      "\n"
     ]
    }
   ],
   "source": [
    "true_classesTrainResNet = train_generator.classes\n",
    "predicted_classesTrainResNet = predictionsTrainResNet.argmax(axis=1)\n",
    "class_labelsTrainResNet = list(train_generator.class_indices.keys())\n",
    "reportTrainResNet = classification_report(true_classesTrainResNet, predicted_classesTrainResNet, target_names=class_labelsTrainResNet)\n",
    "\n",
    "print(\"Classification Report for ResNet Train Dataset\")\n",
    "print(reportTrainResNet)"
   ]
  },
  {
   "cell_type": "code",
   "execution_count": 22,
   "metadata": {
    "execution": {
     "iopub.execute_input": "2023-12-11T00:49:15.529377Z",
     "iopub.status.busy": "2023-12-11T00:49:15.528654Z",
     "iopub.status.idle": "2023-12-11T01:04:38.523596Z",
     "shell.execute_reply": "2023-12-11T01:04:38.522247Z",
     "shell.execute_reply.started": "2023-12-11T00:49:15.529336Z"
    }
   },
   "outputs": [
    {
     "name": "stdout",
     "output_type": "stream",
     "text": [
      "353/353 [==============================] - 909s 3s/step\n"
     ]
    }
   ],
   "source": [
    "# Make predictions on the valid set\n",
    "predictionsValidResNet = modelResNet.predict(validation_generator)"
   ]
  },
  {
   "cell_type": "code",
   "execution_count": 24,
   "metadata": {
    "execution": {
     "iopub.execute_input": "2023-12-11T01:04:52.539044Z",
     "iopub.status.busy": "2023-12-11T01:04:52.537988Z",
     "iopub.status.idle": "2023-12-11T01:04:52.574731Z",
     "shell.execute_reply": "2023-12-11T01:04:52.573919Z",
     "shell.execute_reply.started": "2023-12-11T01:04:52.539000Z"
    }
   },
   "outputs": [
    {
     "name": "stdout",
     "output_type": "stream",
     "text": [
      "Classification Report for ResNet Valid Dataset\n",
      "              precision    recall  f1-score   support\n",
      "\n",
      "  background       0.67      0.47      0.56      7654\n",
      "       frost       0.32      0.52      0.39      3632\n",
      "\n",
      "    accuracy                           0.49     11286\n",
      "   macro avg       0.49      0.49      0.47     11286\n",
      "weighted avg       0.56      0.49      0.50     11286\n",
      "\n"
     ]
    }
   ],
   "source": [
    "true_classesValidResNet = validation_generator.classes\n",
    "predicted_classesValidResNet = predictionsValidResNet.argmax(axis=1)\n",
    "class_labelsValidResNet = list(validation_generator.class_indices.keys())\n",
    "reportValidResNet = classification_report(true_classesValidResNet, predicted_classesValidResNet, target_names=class_labelsValidResNet)\n",
    "\n",
    "print(\"Classification Report for ResNet Valid Dataset\")\n",
    "print(reportValidResNet)"
   ]
  },
  {
   "cell_type": "code",
   "execution_count": 26,
   "metadata": {
    "execution": {
     "iopub.execute_input": "2023-12-11T01:05:07.527408Z",
     "iopub.status.busy": "2023-12-11T01:05:07.526992Z",
     "iopub.status.idle": "2023-12-11T01:23:29.932513Z",
     "shell.execute_reply": "2023-12-11T01:23:29.931234Z",
     "shell.execute_reply.started": "2023-12-11T01:05:07.527360Z"
    }
   },
   "outputs": [
    {
     "name": "stdout",
     "output_type": "stream",
     "text": [
      "401/401 [==============================] - 1066s 3s/step\n"
     ]
    }
   ],
   "source": [
    "# Make predictions on the test set\n",
    "predictionsTestResNet = modelResNet.predict(test_generator)"
   ]
  },
  {
   "cell_type": "code",
   "execution_count": 28,
   "metadata": {
    "execution": {
     "iopub.execute_input": "2023-12-11T01:24:00.206430Z",
     "iopub.status.busy": "2023-12-11T01:24:00.205965Z",
     "iopub.status.idle": "2023-12-11T01:24:00.246720Z",
     "shell.execute_reply": "2023-12-11T01:24:00.245420Z",
     "shell.execute_reply.started": "2023-12-11T01:24:00.206379Z"
    }
   },
   "outputs": [
    {
     "name": "stdout",
     "output_type": "stream",
     "text": [
      "Classification Report for ResNet Test Dataset\n",
      "              precision    recall  f1-score   support\n",
      "\n",
      "  background       0.78      0.81      0.80      4418\n",
      "       frost       0.90      0.88      0.89      8405\n",
      "\n",
      "    accuracy                           0.86     12823\n",
      "   macro avg       0.84      0.85      0.84     12823\n",
      "weighted avg       0.86      0.86      0.86     12823\n",
      "\n"
     ]
    }
   ],
   "source": [
    "true_classesTestResNet = test_generator.classes\n",
    "predicted_classesTestResNet = predictionsTestResNet.argmax(axis=1)\n",
    "class_labelsTestResNet = list(test_generator.class_indices.keys())\n",
    "reportTestResNet = classification_report(true_classesTestResNet, predicted_classesTestResNet, target_names=class_labelsTestResNet)\n",
    "\n",
    "print(\"Classification Report for ResNet Test Dataset\")\n",
    "print(reportTestResNet)"
   ]
  },
  {
   "cell_type": "markdown",
   "metadata": {},
   "source": [
    "# VGG16"
   ]
  },
  {
   "cell_type": "code",
   "execution_count": 2,
   "metadata": {},
   "outputs": [],
   "source": [
    "import os\n",
    "import os.path as op\n",
    "import json\n",
    "from pathlib import Path\n",
    "import matplotlib.pyplot as plt\n",
    "import shutil\n",
    "import logging\n",
    "import numpy as np\n",
    "from tqdm import tqdm\n",
    "from skimage import io\n",
    "import pandas as pd\n",
    "from tensorflow.keras.models import Sequential\n",
    "from tensorflow.keras.layers import Dense, Conv2D, Flatten, Dropout, MaxPooling2D, BatchNormalization, GlobalAveragePooling2D\n",
    "from tensorflow.keras.regularizers import l2\n",
    "from tensorflow.keras.callbacks import EarlyStopping\n",
    "import tensorflow as tf\n",
    "from tensorflow.keras.preprocessing.image import ImageDataGenerator\n",
    "from sklearn.metrics import classification_report\n",
    "from tensorflow.keras.applications import EfficientNetB0, ResNet50, VGG16 \n",
    "from tensorflow.keras.models import Model\n",
    "from tensorflow.keras.optimizers import Adam\n",
    "from tensorflow.keras.callbacks import EarlyStopping\n",
    "from sklearn.metrics import precision_score, recall_score, f1_score\n",
    "from tensorflow.keras.utils import to_categorical\n",
    "from tensorflow.keras.callbacks import EarlyStopping\n",
    "from tensorflow.keras.applications.vgg16 import VGG16, preprocess_input\n",
    "from tensorflow.keras.applications import VGG16\n",
    "from tensorflow.keras.layers import GlobalAveragePooling2D, Dense, BatchNormalization, Dropout\n",
    "from tensorflow.keras.models import Model\n",
    "from tensorflow.keras.preprocessing.image import ImageDataGenerator\n",
    "from tensorflow.keras.applications.vgg16 import preprocess_input\n",
    "import matplotlib.pyplot as plt"
   ]
  },
  {
   "cell_type": "code",
   "execution_count": 3,
   "metadata": {},
   "outputs": [],
   "source": [
    "# Logging configuration\n",
    "logging.basicConfig(level=logging.INFO,\n",
    "                    datefmt='%H:%M:%S',\n",
    "                    format='%(asctime)s | %(levelname)-5s | %(module)-15s | %(message)s')\n",
    "\n",
    "IMAGE_SIZE = (299, 299)  # All images contained in this dataset are 299x299 (originally, to match Inception v3 input size)\n",
    "SEED = 17\n",
    "\n",
    "# Head directory containing all image subframes. Update with the relative path of your data directory\n",
    "data_head_dir = Path('../data')\n",
    "\n",
    "# Find all subframe directories\n",
    "subdirs = [Path(subdir.stem) for subdir in data_head_dir.iterdir() if subdir.is_dir()]\n",
    "src_image_ids = ['_'.join(a_path.name.split('_')[:3]) for a_path in subdirs]"
   ]
  },
  {
   "cell_type": "code",
   "execution_count": 6,
   "metadata": {},
   "outputs": [],
   "source": [
    "# Load train/val/test subframe IDs\n",
    "def load_text_ids(file_path):\n",
    "    \"\"\"Simple helper to load all lines from a text file\"\"\"\n",
    "    with open(file_path, 'r') as f:\n",
    "        lines = [line.strip() for line in f.readlines()]\n",
    "    return lines\n",
    "\n",
    "# Load the subframe names for the three data subsets\n",
    "train_ids = load_text_ids('../train_source_images.txt')\n",
    "validate_ids = load_text_ids('../val_source_images.txt')\n",
    "test_ids = load_text_ids('../test_source_images.txt')\n",
    "\n",
    "# Generate a list containing the dataset split for the matching subdirectory names\n",
    "subdir_splits = []\n",
    "for src_id in src_image_ids:\n",
    "    if src_id in train_ids:\n",
    "        subdir_splits.append('train')\n",
    "    elif src_id in validate_ids:\n",
    "        subdir_splits.append('validate')\n",
    "    elif(src_id in test_ids):\n",
    "        subdir_splits.append('test')\n",
    "    else:\n",
    "        logging.warning(f'{src_id}: Did not find designated split in train/validate/test list.')\n",
    "        subdir_splits.append(None)"
   ]
  },
  {
   "cell_type": "code",
   "execution_count": 4,
   "metadata": {},
   "outputs": [],
   "source": [
    "def loadData(split):\n",
    "    basePath = '..\\data'\n",
    "    data = []\n",
    "    for dirName in os.listdir(basePath):\n",
    "\n",
    "        if any(dirName.startswith(splitId) for splitId in split):\n",
    "            fullDirPath = os.path.join(basePath, dirName)\n",
    "\n",
    "            if os.path.isdir(os.path.join(fullDirPath, 'labels', 'frost')):\n",
    "                className = 'frost'\n",
    "            elif os.path.isdir(os.path.join(fullDirPath, 'labels', 'background')):\n",
    "                className = 'background'\n",
    "            else:\n",
    "                continue\n",
    "            tilesFolderPath = os.path.join(fullDirPath, 'tiles',className)\n",
    "\n",
    "            fileList = []\n",
    "            for imageFile in os.listdir(tilesFolderPath):\n",
    "                if imageFile.endswith('.png'):\n",
    "                    imagePath = os.path.join(tilesFolderPath, imageFile)     \n",
    "                    data.append((imagePath, className))\n",
    "                    \n",
    "    df = pd.DataFrame(data, columns=['path', 'label'])\n",
    "    return df"
   ]
  },
  {
   "cell_type": "code",
   "execution_count": 7,
   "metadata": {},
   "outputs": [],
   "source": [
    "trainDfVGG = loadData(train_ids)\n",
    "testDfVGG = loadData(test_ids)\n",
    "validDfVGG = loadData(validate_ids)"
   ]
  },
  {
   "cell_type": "code",
   "execution_count": 8,
   "metadata": {},
   "outputs": [],
   "source": [
    "train_datagen = ImageDataGenerator(preprocessing_function=preprocess_input)\n",
    "valid_datagen = ImageDataGenerator(preprocessing_function=preprocess_input)\n",
    "test_datagen = ImageDataGenerator(preprocessing_function=preprocess_input)"
   ]
  },
  {
   "cell_type": "code",
   "execution_count": 9,
   "metadata": {},
   "outputs": [
    {
     "name": "stdout",
     "output_type": "stream",
     "text": [
      "Found 14119 validated image filenames belonging to 2 classes.\n",
      "Found 7889 validated image filenames belonging to 2 classes.\n",
      "Found 7972 validated image filenames belonging to 2 classes.\n"
     ]
    }
   ],
   "source": [
    "train_generatorVGG = train_datagen.flow_from_dataframe(\n",
    "    trainDfVGG, \n",
    "    x_col='path', \n",
    "    y_col='label', \n",
    "    target_size=(299, 299), \n",
    "    class_mode='sparse',\n",
    "    batch_size=32\n",
    ")\n",
    "\n",
    "valid_generatorVGG = valid_datagen.flow_from_dataframe(\n",
    "    validDfVGG, \n",
    "    x_col='path', \n",
    "    y_col='label', \n",
    "    target_size=(299, 299), \n",
    "    class_mode='sparse', \n",
    "    batch_size=32\n",
    ")\n",
    "\n",
    "test_generatorVGG = test_datagen.flow_from_dataframe(\n",
    "    testDfVGG, \n",
    "    x_col='path', \n",
    "    y_col='label', \n",
    "    target_size=(299, 299), \n",
    "    class_mode='sparse', \n",
    "    batch_size=32\n",
    ")"
   ]
  },
  {
   "cell_type": "code",
   "execution_count": 12,
   "metadata": {},
   "outputs": [
    {
     "name": "stdout",
     "output_type": "stream",
     "text": [
      "Epoch 1/10\n",
      "442/442 [==============================] - 16909s 38s/step - loss: 0.0563 - accuracy: 0.9822 - val_loss: 1.5876 - val_accuracy: 0.5676\n",
      "Epoch 2/10\n",
      "442/442 [==============================] - 10796s 24s/step - loss: 0.0173 - accuracy: 0.9943 - val_loss: 1.4067 - val_accuracy: 0.6666\n",
      "Epoch 3/10\n",
      "442/442 [==============================] - 8391s 19s/step - loss: 0.0143 - accuracy: 0.9951 - val_loss: 1.2956 - val_accuracy: 0.7219\n",
      "Epoch 4/10\n",
      "442/442 [==============================] - 7168s 16s/step - loss: 0.0125 - accuracy: 0.9960 - val_loss: 1.7117 - val_accuracy: 0.6371\n",
      "Epoch 5/10\n",
      "442/442 [==============================] - 8399s 19s/step - loss: 0.0110 - accuracy: 0.9965 - val_loss: 1.4953 - val_accuracy: 0.7228\n",
      "Epoch 6/10\n",
      "442/442 [==============================] - 7343s 17s/step - loss: 0.0075 - accuracy: 0.9980 - val_loss: 1.6044 - val_accuracy: 0.7025\n",
      "Epoch 7/10\n",
      "442/442 [==============================] - 7372s 17s/step - loss: 0.0082 - accuracy: 0.9975 - val_loss: 1.2802 - val_accuracy: 0.7560\n",
      "Epoch 8/10\n",
      "442/442 [==============================] - 7406s 17s/step - loss: 0.0074 - accuracy: 0.9972 - val_loss: 1.0321 - val_accuracy: 0.8184\n",
      "Epoch 9/10\n",
      "442/442 [==============================] - 7353s 17s/step - loss: 0.0079 - accuracy: 0.9972 - val_loss: 1.3557 - val_accuracy: 0.7791\n",
      "Epoch 10/10\n",
      "442/442 [==============================] - 8860s 20s/step - loss: 0.0080 - accuracy: 0.9972 - val_loss: 1.0562 - val_accuracy: 0.7938\n"
     ]
    }
   ],
   "source": [
    "# Load pre-trained VGG16 model\n",
    "base_modelVGG = VGG16(weights='imagenet', include_top=False, input_shape=(299, 299, 3))\n",
    "for layer in base_modelVGG.layers:\n",
    "    layer.trainable = False\n",
    "x = base_modelVGG.output\n",
    "x = GlobalAveragePooling2D()(x)\n",
    "x = Dense(512, activation='relu')(x)\n",
    "x = BatchNormalization()(x)\n",
    "x = Dropout(0.5)(x)\n",
    "predictionsVGG = Dense(2, activation='softmax')(x) \n",
    "\n",
    "modelVGG = Model(inputs=base_modelVGG.input, outputs=predictionsVGG)\n",
    "\n",
    "modelVGG.compile(optimizer='adam', loss='sparse_categorical_crossentropy', metrics=['accuracy'])\n",
    "\n",
    "early_stoppingVGG = EarlyStopping(monitor='val_loss', patience=5, verbose=1)\n",
    "\n",
    "historyVGG = modelVGG.fit(\n",
    "    train_generatorVGG, \n",
    "    validation_data=valid_generatorVGG, \n",
    "    epochs=10, \n",
    "    callbacks=[early_stoppingVGG]\n",
    ")\n",
    "\n",
    "if early_stoppingVGG.stopped_epoch > 0:\n",
    "    print(f\"Early stopping was triggered on epoch {early_stoppingVGG.stopped_epoch}\")"
   ]
  },
  {
   "cell_type": "code",
   "execution_count": 18,
   "metadata": {},
   "outputs": [
    {
     "data": {
      "image/png": "[encoded data removed]",
      "text/plain": [
       "<Figure size 640x480 with 1 Axes>"
      ]
     },
     "metadata": {},
     "output_type": "display_data"
    }
   ],
   "source": [
    "# Plot the training and validation loss\n",
    "plt.figure(figsize=(6, 4))\n",
    "plt.plot(history.history['loss'], label='Training Loss')\n",
    "plt.plot(history.history['val_loss'], label='Validation Loss')\n",
    "plt.title('Training and Validation Loss Over Epochs')\n",
    "plt.xlabel('Epochs')\n",
    "plt.ylabel('Loss')\n",
    "plt.legend()\n",
    "plt.show()"
   ]
  },
  {
   "cell_type": "code",
   "execution_count": 24,
   "metadata": {},
   "outputs": [
    {
     "name": "stdout",
     "output_type": "stream",
     "text": [
      "442/442 [==============================] - 5432s 12s/step\n",
      "Classification Report for VGG16 for train dataset\n",
      "              precision    recall  f1-score   support\n",
      "                                                     \n",
      "  background       0.35      0.35      0.35      4932\n",
      "       frost       0.65      0.65      0.65      9187\n",
      "                                                     \n",
      "    accuracy                           0.54     14119\n",
      "   macro avg       0.50      0.50      0.50     14119\n",
      "weighted avg       0.54      0.54      0.54     14119\n"
     ]
    }
   ],
   "source": [
    "predictionsTrainVGG = modelVGG.predict(train_generatorVGG)\n",
    "predicted_classesTrainVGG = np.argmax(predictionsTrainVGG, axis=-1)\n",
    "true_classesTrainVGG = train_generatorVGG.classes\n",
    "print(\"Classification Report for VGG16 for train dataset\")\n",
    "reportTrainVGG = classification_report(true_classesTrainVGG, predicted_classesTrainVGG, target_names=list(train_generatorVGG.class_indices.keys()))\n",
    "print(reportTrainVGG)"
   ]
  },
  {
   "cell_type": "code",
   "execution_count": 20,
   "metadata": {},
   "outputs": [
    {
     "name": "stdout",
     "output_type": "stream",
     "text": [
      "247/247 [==============================] - 2741s 11s/step\n"
     ]
    }
   ],
   "source": [
    "predictionsValidVGG = modelVGG.predict(valid_generatorVGG)"
   ]
  },
  {
   "cell_type": "code",
   "execution_count": 21,
   "metadata": {},
   "outputs": [
    {
     "name": "stdout",
     "output_type": "stream",
     "text": [
      "Classification Report for VGG16 for valid dataset\n",
      "              precision    recall  f1-score   support\n",
      "                                                     \n",
      "  background       0.77      0.57      0.65      6067\n",
      "       frost       0.23      0.43      0.30      1822\n",
      "                                                     \n",
      "    accuracy                           0.54      7889\n",
      "   macro avg       0.50      0.50      0.48      7889\n",
      "weighted avg       0.64      0.54      0.57      7889\n"
     ]
    }
   ],
   "source": [
    "predicted_classesValidVGG = np.argmax(predictionsValidVGG, axis=-1)\n",
    "true_classesValidVGG = valid_generatorVGG.classes\n",
    "\n",
    "reportValidVGG = classification_report(true_classesValidVGG, predicted_classesValidVGG, target_names=list(valid_generatorVGG.class_indices.keys()))\n",
    "print(\"Classification Report for VGG16 for valid dataset\")\n",
    "print(reportValidVGG)"
   ]
  },
  {
   "cell_type": "code",
   "execution_count": 22,
   "metadata": {},
   "outputs": [
    {
     "name": "stdout",
     "output_type": "stream",
     "text": [
      "250/250 [==============================] - 3278s 13s/step\n"
     ]
    }
   ],
   "source": [
    "predictionsTestVGG = modelVGG.predict(test_generatorVGG)"
   ]
  },
  {
   "cell_type": "code",
   "execution_count": 23,
   "metadata": {},
   "outputs": [
    {
     "name": "stdout",
     "output_type": "stream",
     "text": [
      "Classification Report for VGG16 for test dataset\n",
      "              precision    recall  f1-score   support\n",
      "                                                     \n",
      "  background       0.29      0.36      0.32      2198\n",
      "       frost       0.73      0.66      0.70      5774\n",
      "                                                     \n",
      "    accuracy                           0.58      7972\n",
      "   macro avg       0.51      0.51      0.51      7972\n",
      "weighted avg       0.61      0.58      0.59      7972\n"
     ]
    }
   ],
   "source": [
    "predicted_classesTestVGG = np.argmax(predictionsTestVGG, axis=-1)\n",
    "true_classesTestVGG = test_generatorVGG.classes\n",
    "\n",
    "reportTestVGG = classification_report(true_classesTestVGG, predicted_classesTestVGG, target_names=list(test_generatorVGG.class_indices.keys()))\n",
    "print(\"Classification Report for VGG16 for test dataset\")\n",
    "print(reportTestVGG)"
   ]
  },
  {
   "cell_type": "markdown",
   "metadata": {},
   "source": [
    "### vi. Compare the results of transfer learning with those of CNN + MLP model and explain them."
   ]
  },
  {
   "cell_type": "code",
   "execution_count": 16,
   "metadata": {},
   "outputs": [
    {
     "name": "stdout",
     "output_type": "stream",
     "text": [
      "            Model  Train Accuracy  Valid Accuracy  Test Accuracy\n",
      "0             CNN            0.55            0.35           0.72\n",
      "1  EfficientNetB0            0.52            0.52           0.81\n",
      "2        ResNet50            0.53            0.49           0.86\n",
      "3           VGG16            0.50            0.34           0.65\n"
     ]
    }
   ],
   "source": [
    "resultData = {\n",
    "    'Model': ['CNN', 'EfficientNetB0', 'ResNet50', 'VGG16'],\n",
    "    'Train Accuracy': [0.55, 0.52, 0.53, 0.54],\n",
    "    'Valid Accuracy': [0.35, 0.52, 0.49, 0.54],\n",
    "    'Test Accuracy': [0.72, 0.81, 0.86, 0.58]\n",
    "}\n",
    "\n",
    "resultDf = pd.DataFrame(resultData)\n",
    "print(resultDf)"
   ]
  },
  {
   "cell_type": "markdown",
   "metadata": {},
   "source": [
    "**Transfer Learning vs. CNN + MLP:**\n",
    "Transfer learning models have shown better performance in terms of accuracy, especially on the test dataset.\n",
    "They tend to have a more balanced precision and recall, which indicates better generalization across different classes.\n",
    "F1-scores are usually higher in transfer learning models, suggesting a better balance between precision and recall.\n",
    "\n",
    "**Generalization:**\n",
    "CNN shows poor generalization on the validation dataset, indicated by a significant drop in accuracy and imbalanced precision and recall. Transfer learning models maintain better consistency across train, validation, and test datasets.\n",
    "\n",
    "**Overall Performance:**\n",
    "Among the transfer learning models, ResNet50 stands out with the highest test accuracy and balanced metrics.\n",
    "EfficientNetB0 and VGG16 also show improvements over the CNN model, though not as pronounced as ResNet50."
   ]
  }
 ],
 "metadata": {
  "kaggle": {
   "accelerator": "none",
   "dataSources": [
    {
     "datasetId": 4123691,
     "sourceId": 7144069,
     "sourceType": "datasetVersion"
    },
    {
     "datasetId": 4128886,
     "sourceId": 7151121,
     "sourceType": "datasetVersion"
    },
    {
     "modelInstanceId": 846,
     "sourceId": 992,
     "sourceType": "modelInstanceVersion"
    },
    {
     "isSourceIdPinned": true,
     "modelInstanceId": 2656,
     "sourceId": 3729,
     "sourceType": "modelInstanceVersion"
    },
    {
     "isSourceIdPinned": true,
     "modelInstanceId": 1911,
     "sourceId": 2645,
     "sourceType": "modelInstanceVersion"
    }
   ],
   "dockerImageVersionId": 30615,
   "isGpuEnabled": false,
   "isInternetEnabled": false,
   "language": "python",
   "sourceType": "notebook"
  },
  "kernelspec": {
   "display_name": "Python 3 (ipykernel)",
   "language": "python",
   "name": "python3"
  },
  "language_info": {
   "codemirror_mode": {
    "name": "ipython",
    "version": 3
   },
   "file_extension": ".py",
   "mimetype": "text/x-python",
   "name": "python",
   "nbconvert_exporter": "python",
   "pygments_lexer": "ipython3",
   "version": "3.11.4"
  }
 },
 "nbformat": 4,
 "nbformat_minor": 4
}
